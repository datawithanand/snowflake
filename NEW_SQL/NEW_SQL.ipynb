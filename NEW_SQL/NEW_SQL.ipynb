{
 "metadata": {
  "kernelspec": {
   "display_name": "Streamlit Notebook",
   "name": "streamlit"
  },
  "lastEditStatus": {
   "notebookId": "oatbsedsnxmuuau2mqlm",
   "authorId": "3158684672522",
   "authorName": "ANANDSURESH",
   "authorEmail": "anandsuresh05@gmail.com",
   "sessionId": "0f3a7849-487b-4c35-84c6-6b524ab54313",
   "lastEditTime": 1757720311716
  }
 },
 "nbformat_minor": 5,
 "nbformat": 4,
 "cells": [
  {
   "cell_type": "code",
   "id": "6a744842-71a0-4cf9-a0b6-6e71207944f5",
   "metadata": {
    "language": "sql",
    "name": "cell1"
   },
   "outputs": [],
   "source": "-- testing",
   "execution_count": null
  }
 ]
}