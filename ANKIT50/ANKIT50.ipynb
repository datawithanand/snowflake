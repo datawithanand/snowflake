{
 "metadata": {
  "kernelspec": {
   "display_name": "Streamlit Notebook",
   "name": "streamlit"
  },
  "lastEditStatus": {
   "notebookId": "qwur5tbpa35nq3sui773",
   "authorId": "3158684672522",
   "authorName": "ANANDSURESH",
   "authorEmail": "anandsuresh05@gmail.com",
   "sessionId": "4f0a0ab9-c2a8-4752-a565-191ff1b18a6b",
   "lastEditTime": 1758409991698
  }
 },
 "nbformat_minor": 5,
 "nbformat": 4,
 "cells": [
  {
   "cell_type": "code",
   "id": "baa6aa96-847e-4b42-9ff0-a28f648b1360",
   "metadata": {
    "language": "sql",
    "name": "cell1"
   },
   "outputs": [],
   "source": "",
   "execution_count": null
  }
 ]
}