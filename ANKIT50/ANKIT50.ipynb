{
 "metadata": {
  "kernelspec": {
   "display_name": "Streamlit Notebook",
   "name": "streamlit"
  },
  "lastEditStatus": {
   "notebookId": "6xuf4yhqaojqm5ffgac3",
   "authorId": "3158684672522",
   "authorName": "ANANDSURESH",
   "authorEmail": "anandsuresh05@gmail.com",
   "sessionId": "4f0a0ab9-c2a8-4752-a565-191ff1b18a6b",
   "lastEditTime": 1758418990122
  }
 },
 "nbformat_minor": 5,
 "nbformat": 4,
 "cells": [
  {
   "cell_type": "code",
   "id": "baa6aa96-847e-4b42-9ff0-a28f648b1360",
   "metadata": {
    "language": "sql",
    "name": "_01"
   },
   "outputs": [],
   "source": "SELECT \n\tdistinct year(birth_date) \nFROM patients\norder by year(birth_date)",
   "execution_count": null
  },
  {
   "cell_type": "code",
   "id": "ee0434a0-1f96-4149-b0a0-360c22785e93",
   "metadata": {
    "language": "sql",
    "name": "_02"
   },
   "outputs": [],
   "source": "SELECT \n\tfirst_name\nFROM patients\ngroup by first_name\nHaving count(*) = 1",
   "execution_count": null
  },
  {
   "cell_type": "code",
   "id": "8275e25b-df42-4152-bb38-0cf944c441b3",
   "metadata": {
    "language": "sql",
    "name": "_03"
   },
   "outputs": [],
   "source": "SELECT \n\tpatient_id,\n    first_name\nFROM patients\nWHERE\n\tlen(first_name) >=6\nAND\n\tlower(first_name) LIKE 's%s'",
   "execution_count": null
  },
  {
   "cell_type": "code",
   "id": "4e541ae4-7a24-4eaf-b5f6-59922c6abf28",
   "metadata": {
    "language": "sql",
    "name": "_04"
   },
   "outputs": [],
   "source": "Select \n\tp.patient_id,\n    p.first_name,\n    p.last_name\nfrom patients p\nJOIN admissions a\non p.patient_id = a.patient_id\nwhere a.diagnosis = 'Dementia'",
   "execution_count": null
  },
  {
   "cell_type": "code",
   "id": "478216bf-2072-49cf-8601-53a1c4edee51",
   "metadata": {
    "language": "sql",
    "name": "_05"
   },
   "outputs": [],
   "source": "SELECT first_name\nfrom patients\norder by LEN(first_name), first_name ASC",
   "execution_count": null
  },
  {
   "cell_type": "code",
   "id": "63ea0149-3ce2-47f8-b6fc-0d33ddf16109",
   "metadata": {
    "language": "sql",
    "name": "_06"
   },
   "outputs": [],
   "source": "SELECT \n\tcount(CASE\n    \tWHEN gender = 'M' then 1\n     end) as male_count,\n     count(CASE\n    \tWHEN gender = 'F' then 1\n     end) as female_count\nfrom patients\n\nSELECT \n  SUM(Gender = 'M') as male_count, \n  SUM(Gender = 'F') AS female_count\nFROM patients\n\nSELECT \n  (SELECT count(*) FROM patients WHERE gender='M') AS male_count, \n  (SELECT count(*) FROM patients WHERE gender='F') AS female_count;",
   "execution_count": null
  },
  {
   "cell_type": "code",
   "id": "e9969b33-4a8f-4ee2-9fca-0c2bc3c4ee74",
   "metadata": {
    "language": "sql",
    "name": "_07"
   },
   "outputs": [],
   "source": "select\n\tfirst_name,\n    last_name,\n    allergies\nFROM patients\nWHERE allergies = 'Penicillin' or allergies = 'Morphine'\nORDER By allergies, first_name, last_name\n\nSELECT\n  first_name,\n  last_name,\n  allergies\nFROM patients\nWHERE\n  allergies IN ('Penicillin', 'Morphine')\nORDER BY\n  allergies,\n  first_name,\n  last_name;",
   "execution_count": null
  },
  {
   "cell_type": "code",
   "id": "491f2cd8-7130-4f57-aaba-ccfd4e77a163",
   "metadata": {
    "language": "sql",
    "name": "_08"
   },
   "outputs": [],
   "source": "select\n\tp.patient_id,\n    a.diagnosis\nFROM patients p\njoin admissions a\non p.patient_id = a.patient_id\ngroup by p.patient_id, a.diagnosis\nHAVING count(*) > 1",
   "execution_count": null
  },
  {
   "cell_type": "code",
   "id": "3677bb51-0967-4eae-b5e0-59a233540486",
   "metadata": {
    "language": "sql",
    "name": "_09"
   },
   "outputs": [],
   "source": "SELECT\n\tcity,\n    count(patient_id) as num_patients\nFROM patients\ngroup by city\norder by count(patient_id) desc, city",
   "execution_count": null
  },
  {
   "cell_type": "code",
   "id": "0dec7dad-e244-467d-9451-0bcb3bec6940",
   "metadata": {
    "language": "sql",
    "name": "_10"
   },
   "outputs": [],
   "source": "SELECT first_name, last_name, 'Patient' as role FROM patients\n    union all\nselect first_name, last_name, 'Doctor' from doctors;",
   "execution_count": null
  },
  {
   "cell_type": "code",
   "id": "dd7049a9-5d43-419f-93f1-17b98c6484c3",
   "metadata": {
    "language": "sql",
    "name": "_11"
   },
   "outputs": [],
   "source": "SELECT\n  allergies,\n  COUNT(*) AS total_diagnosis\nFROM patients\nWHERE\n  allergies IS NOT NULL\nGROUP BY allergies\nORDER BY total_diagnosis DESC\n\nSELECT\n  allergies,\n  count(*)\nFROM patients\nWHERE allergies NOT NULL\nGROUP BY allergies\nORDER BY count(*) DESC\n\nSELECT\n  allergies,\n  count(allergies) AS total_diagnosis\nFROM patients\nGROUP BY allergies\nHAVING\n  allergies IS NOT NULL\nORDER BY total_diagnosis DESC",
   "execution_count": null
  },
  {
   "cell_type": "code",
   "id": "7e904868-2785-43fb-af2d-7ec421594ebd",
   "metadata": {
    "language": "sql",
    "name": "_12"
   },
   "outputs": [],
   "source": "SELECT\n\tfirst_name,\n    last_name,\n    birth_date\nfrom\n\tpatients\nwhere year(birth_date) >= 1970 and year(birth_date) <= 1979\norder by birth_date\n\nSELECT\n  first_name,\n  last_name,\n  birth_date\nFROM patients\nWHERE\n  YEAR(birth_date) BETWEEN 1970 AND 1979\nORDER BY birth_date ASC;\n\nSELECT\n  first_name,\n  last_name,\n  birth_date\nFROM patients\nWHERE\n  birth_date >= '1970-01-01'\n  AND birth_date < '1980-01-01'\nORDER BY birth_date ASC\n\nSELECT\n  first_name,\n  last_name,\n  birth_date\nFROM patients\nWHERE year(birth_date) LIKE '197%'\nORDER BY birth_date ASC",
   "execution_count": null
  },
  {
   "cell_type": "code",
   "id": "cef05de3-bac4-429a-bf05-a30ff941af06",
   "metadata": {
    "language": "sql",
    "name": "_13"
   },
   "outputs": [],
   "source": "SELECT\n\tconcat(upper(last_name),',',lower(first_name)) as new_name_format\nfrom\n\tpatients\norder by first_name desc\n\nSELECT\n  UPPER(last_name) || ',' || LOWER(first_name) AS new_name_format\nFROM patients\nORDER BY first_name DESC;",
   "execution_count": null
  },
  {
   "cell_type": "code",
   "id": "7dae23e0-9ac7-4abf-b0dc-67689690762a",
   "metadata": {
    "language": "sql",
    "name": "_14"
   },
   "outputs": [],
   "source": "SELECT\n\tprovince_id,\n    sum(height) sum_height\nfrom\n\tpatients\ngroup by province_id\nhaving sum(height) > 7000\n\nselect * from (select province_id, SUM(height) as sum_height FROM patients group by province_id) where sum_height >= 7000;",
   "execution_count": null
  },
  {
   "cell_type": "code",
   "id": "d40b0909-0eb7-4fa4-b37d-cb3cc4ed9b8f",
   "metadata": {
    "language": "sql",
    "name": "_15"
   },
   "outputs": [],
   "source": "SELECT\n\tmax(weight) - min(weight) as weight_delta\nfrom\n\tpatients\nwhere last_name = 'Maroni'",
   "execution_count": null
  },
  {
   "cell_type": "code",
   "id": "a0caf5af-9f5a-43e5-94ef-1550d2d6a0f2",
   "metadata": {
    "language": "sql",
    "name": "_16"
   },
   "outputs": [],
   "source": "SELECT\n  DAY(admission_date) AS day_number,\n  COUNT(*) AS number_of_admissions\nFROM admissions\nGROUP BY day_number\nORDER BY number_of_admissions DESC",
   "execution_count": null
  },
  {
   "cell_type": "code",
   "id": "a1c0e72e-8dbe-42c0-9fff-f490f670f5ad",
   "metadata": {
    "language": "sql",
    "name": "_17"
   },
   "outputs": [],
   "source": "SELECT\n\t*\nfrom\n\tadmissions\nwhere patient_id = 542\norder by admission_date desc limit 1\n\nSELECT *\nFROM admissions\nWHERE patient_id = 542\nGROUP BY patient_id\nHAVING\n  admission_date = MAX(admission_date);\n\nSELECT *\nFROM admissions\nWHERE\n  patient_id = '542'\n  AND admission_date = (\n    SELECT MAX(admission_date)\n    FROM admissions\n    WHERE patient_id = '542'\n  )\n\nSELECT *\nFROM admissions\nGROUP BY patient_id\nHAVING\n  patient_id = 542\n  AND max(admission_date)",
   "execution_count": null
  },
  {
   "cell_type": "code",
   "id": "63e8cbd2-5683-43f2-b20a-91e2e9abdc6b",
   "metadata": {
    "language": "sql",
    "name": "_18"
   },
   "outputs": [],
   "source": "select\n\tpatient_id,\n    attending_doctor_id,\n    diagnosis\nfrom\n\tadmissions\nwhere\n\t(patient_id %2 <> 0 AND attending_doctor_id IN (1,5,19)) OR\n    (attending_doctor_id LIKE '%2%' AND len(patient_id) = 3)",
   "execution_count": null
  },
  {
   "cell_type": "code",
   "id": "92efa4a0-3c8a-425e-bd08-1d5c4f191e42",
   "metadata": {
    "language": "sql",
    "name": "_19"
   },
   "outputs": [],
   "source": "SELECT\n  first_name,\n  last_name,\n  count(*) as admissions_total\nfrom admissions a\n  join doctors ph on ph.doctor_id = a.attending_doctor_id\ngroup by attending_doctor_id\n\nSELECT\n  first_name, last_name, count(*)\nfrom\n  doctors p, admissions a\nwhere\n  a.attending_doctor_id = p.doctor_id\ngroup by p.doctor_id;",
   "execution_count": null
  },
  {
   "cell_type": "code",
   "id": "24d10adc-583c-4627-b63e-b09875532b71",
   "metadata": {
    "language": "sql",
    "name": "_20"
   },
   "outputs": [],
   "source": "SELECT\n\td.doctor_id,\n    concat(d.first_name,' ', d.last_name) as full_name,\n\tmin(a.admission_date) as first_admission_date,\n    MAX(a.admission_date) as last_admission_date\nfrom doctors d\njoin admissions a\non d.doctor_id = a.attending_doctor_id\ngroup by d.doctor_id",
   "execution_count": null
  },
  {
   "cell_type": "code",
   "id": "6f167a6e-a5a5-4e7f-8e8e-c574cab12497",
   "metadata": {
    "language": "sql",
    "name": "_21"
   },
   "outputs": [],
   "source": "SELECT\n\tpro.province_name,\n    count(*) as patient_count\nfrom province_names pro\njoin patients p\non pro.province_id = p.province_id\ngroup by pro.province_name\norder by patient_count desc",
   "execution_count": null
  },
  {
   "cell_type": "code",
   "id": "88c888ce-634f-49ae-8231-7c3f4e39d789",
   "metadata": {
    "language": "sql",
    "name": "_22"
   },
   "outputs": [],
   "source": "SELECT\n\tconcat(p.first_name, ' ', p.last_name) as patient_name,\n    a.diagnosis,\n   \tconcat(d.first_name, ' ', d.last_name) as doctor_name\nfrom patients p\njoin admissions a on p.patient_id = a.patient_id\njoin doctors d on a.attending_doctor_id = d.doctor_id",
   "execution_count": null
  },
  {
   "cell_type": "code",
   "id": "f0f185ca-d681-4c0d-8718-21efc5c82a8e",
   "metadata": {
    "language": "sql",
    "name": "_23"
   },
   "outputs": [],
   "source": "select\n\tfirst_name,\n    last_name,\n    count(*) as num_of_duplicates\nfrom patients\ngroup by first_name, last_name\nhaving count(*) > 1",
   "execution_count": null
  },
  {
   "cell_type": "code",
   "id": "561144bc-4fbd-4ab3-935d-cb7d61f842c7",
   "metadata": {
    "language": "sql",
    "name": "_24"
   },
   "outputs": [],
   "source": "select\n\tconcat(first_name,' ', last_name) as patient_name,\n    round(height/30.48,1),\n    round(weight*2.205,0),\n    birth_date,\n    case when gender = 'M' then 'MALE' else 'FEMALE' end as gender_type\nfrom patients",
   "execution_count": null
  },
  {
   "cell_type": "code",
   "id": "66cc97a1-2a98-4374-9aec-047865da2f5f",
   "metadata": {
    "language": "sql",
    "name": "_25"
   },
   "outputs": [],
   "source": "",
   "execution_count": null
  }
 ]
}