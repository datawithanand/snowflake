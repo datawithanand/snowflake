{
 "metadata": {
  "kernelspec": {
   "display_name": "Streamlit Notebook",
   "name": "streamlit"
  },
  "lastEditStatus": {
   "notebookId": "6xuf4yhqaojqm5ffgac3",
   "authorId": "3158684672522",
   "authorName": "ANANDSURESH",
   "authorEmail": "anandsuresh05@gmail.com",
   "sessionId": "4f0a0ab9-c2a8-4752-a565-191ff1b18a6b",
   "lastEditTime": 1758410697826
  }
 },
 "nbformat_minor": 5,
 "nbformat": 4,
 "cells": [
  {
   "cell_type": "code",
   "id": "baa6aa96-847e-4b42-9ff0-a28f648b1360",
   "metadata": {
    "language": "sql",
    "name": "_01"
   },
   "outputs": [],
   "source": "SELECT \n\tdistinct year(birth_date) \nFROM patients\norder by year(birth_date)",
   "execution_count": null
  },
  {
   "cell_type": "code",
   "id": "ee0434a0-1f96-4149-b0a0-360c22785e93",
   "metadata": {
    "language": "sql",
    "name": "_02"
   },
   "outputs": [],
   "source": "SELECT \n\tfirst_name\nFROM patients\ngroup by first_name\nHaving count(*) = 1",
   "execution_count": null
  },
  {
   "cell_type": "code",
   "id": "8275e25b-df42-4152-bb38-0cf944c441b3",
   "metadata": {
    "language": "sql",
    "name": "_03"
   },
   "outputs": [],
   "source": "SELECT \n\tpatient_id,\n    first_name\nFROM patients\nWHERE\n\tlen(first_name) >=6\nAND\n\tlower(first_name) LIKE 's%s'",
   "execution_count": null
  },
  {
   "cell_type": "code",
   "id": "4e541ae4-7a24-4eaf-b5f6-59922c6abf28",
   "metadata": {
    "language": "sql",
    "name": "_04"
   },
   "outputs": [],
   "source": "Select \n\tp.patient_id,\n    p.first_name,\n    p.last_name\nfrom patients p\nJOIN admissions a\non p.patient_id = a.patient_id\nwhere a.diagnosis = 'Dementia'",
   "execution_count": null
  }
 ]
}