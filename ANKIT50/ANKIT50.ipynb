{
 "metadata": {
  "kernelspec": {
   "display_name": "Streamlit Notebook",
   "name": "streamlit"
  },
  "lastEditStatus": {
   "notebookId": "6xuf4yhqaojqm5ffgac3",
   "authorId": "3158684672522",
   "authorName": "ANANDSURESH",
   "authorEmail": "anandsuresh05@gmail.com",
   "sessionId": "4f0a0ab9-c2a8-4752-a565-191ff1b18a6b",
   "lastEditTime": 1758414198525
  }
 },
 "nbformat_minor": 5,
 "nbformat": 4,
 "cells": [
  {
   "cell_type": "code",
   "id": "baa6aa96-847e-4b42-9ff0-a28f648b1360",
   "metadata": {
    "language": "sql",
    "name": "_01"
   },
   "outputs": [],
   "source": "SELECT \n\tdistinct year(birth_date) \nFROM patients\norder by year(birth_date)",
   "execution_count": null
  },
  {
   "cell_type": "code",
   "id": "ee0434a0-1f96-4149-b0a0-360c22785e93",
   "metadata": {
    "language": "sql",
    "name": "_02"
   },
   "outputs": [],
   "source": "SELECT \n\tfirst_name\nFROM patients\ngroup by first_name\nHaving count(*) = 1",
   "execution_count": null
  },
  {
   "cell_type": "code",
   "id": "8275e25b-df42-4152-bb38-0cf944c441b3",
   "metadata": {
    "language": "sql",
    "name": "_03"
   },
   "outputs": [],
   "source": "SELECT \n\tpatient_id,\n    first_name\nFROM patients\nWHERE\n\tlen(first_name) >=6\nAND\n\tlower(first_name) LIKE 's%s'",
   "execution_count": null
  },
  {
   "cell_type": "code",
   "id": "4e541ae4-7a24-4eaf-b5f6-59922c6abf28",
   "metadata": {
    "language": "sql",
    "name": "_04"
   },
   "outputs": [],
   "source": "Select \n\tp.patient_id,\n    p.first_name,\n    p.last_name\nfrom patients p\nJOIN admissions a\non p.patient_id = a.patient_id\nwhere a.diagnosis = 'Dementia'",
   "execution_count": null
  },
  {
   "cell_type": "code",
   "id": "478216bf-2072-49cf-8601-53a1c4edee51",
   "metadata": {
    "language": "sql",
    "name": "_05"
   },
   "outputs": [],
   "source": "SELECT first_name\nfrom patients\norder by LEN(first_name), first_name ASC",
   "execution_count": null
  },
  {
   "cell_type": "code",
   "id": "63ea0149-3ce2-47f8-b6fc-0d33ddf16109",
   "metadata": {
    "language": "sql",
    "name": "_06"
   },
   "outputs": [],
   "source": "SELECT \n\tcount(CASE\n    \tWHEN gender = 'M' then 1\n     end) as male_count,\n     count(CASE\n    \tWHEN gender = 'F' then 1\n     end) as female_count\nfrom patients\n\nSELECT \n  SUM(Gender = 'M') as male_count, \n  SUM(Gender = 'F') AS female_count\nFROM patients\n\nSELECT \n  (SELECT count(*) FROM patients WHERE gender='M') AS male_count, \n  (SELECT count(*) FROM patients WHERE gender='F') AS female_count;",
   "execution_count": null
  },
  {
   "cell_type": "code",
   "id": "e9969b33-4a8f-4ee2-9fca-0c2bc3c4ee74",
   "metadata": {
    "language": "sql",
    "name": "_07"
   },
   "outputs": [],
   "source": "select\n\tfirst_name,\n    last_name,\n    allergies\nFROM patients\nWHERE allergies = 'Penicillin' or allergies = 'Morphine'\nORDER By allergies, first_name, last_name\n\nSELECT\n  first_name,\n  last_name,\n  allergies\nFROM patients\nWHERE\n  allergies IN ('Penicillin', 'Morphine')\nORDER BY\n  allergies,\n  first_name,\n  last_name;",
   "execution_count": null
  },
  {
   "cell_type": "code",
   "id": "491f2cd8-7130-4f57-aaba-ccfd4e77a163",
   "metadata": {
    "language": "sql",
    "name": "_08"
   },
   "outputs": [],
   "source": "select\n\tp.patient_id,\n    a.diagnosis\nFROM patients p\njoin admissions a\non p.patient_id = a.patient_id\ngroup by p.patient_id, a.diagnosis\nHAVING count(*) > 1",
   "execution_count": null
  },
  {
   "cell_type": "code",
   "id": "3677bb51-0967-4eae-b5e0-59a233540486",
   "metadata": {
    "language": "sql",
    "name": "_09"
   },
   "outputs": [],
   "source": "SELECT\n\tcity,\n    count(patient_id) as num_patients\nFROM patients\ngroup by city\norder by count(patient_id) desc, city",
   "execution_count": null
  },
  {
   "cell_type": "code",
   "id": "0dec7dad-e244-467d-9451-0bcb3bec6940",
   "metadata": {
    "language": "sql",
    "name": "_10"
   },
   "outputs": [],
   "source": "SELECT first_name, last_name, 'Patient' as role FROM patients\n    union all\nselect first_name, last_name, 'Doctor' from doctors;",
   "execution_count": null
  }
 ]
}