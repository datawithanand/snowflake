{
 "metadata": {
  "kernelspec": {
   "display_name": "Streamlit Notebook",
   "name": "streamlit"
  },
  "lastEditStatus": {
   "notebookId": "kjiqpcpb73edfid6k5vb",
   "authorId": "3158684672522",
   "authorName": "ANANDSURESH",
   "authorEmail": "anandsuresh05@gmail.com",
   "sessionId": "550e5677-e94e-4fd0-8b45-ca8e0981c2d3",
   "lastEditTime": 1757721239842
  }
 },
 "nbformat_minor": 5,
 "nbformat": 4,
 "cells": [
  {
   "cell_type": "markdown",
   "id": "b3ccff4a-0f29-4123-9977-49a38e6b9f14",
   "metadata": {
    "name": "_31_08_2025",
    "collapsed": false
   },
   "source": "#### 31/08/2025"
  },
  {
   "cell_type": "code",
   "id": "f2a5629a-9ff7-48a0-8dad-f594f08290cf",
   "metadata": {
    "language": "sql",
    "name": "_01_second_highest_salary"
   },
   "outputs": [],
   "source": "SELECT \n    max(salary)    \nFROM employees\nWHERE salary <\n(\n    SELECT \n        max(salary)\n    FROM employees\n)",
   "execution_count": null
  },
  {
   "cell_type": "code",
   "id": "58000fa1-eb69-4884-aa59-b225cd4b3930",
   "metadata": {
    "language": "sql",
    "name": "_02_salary_greater_avgsal"
   },
   "outputs": [],
   "source": "SELECT \n    *    \nFROM employees\nWHERE salary >\n(\n    SELECT \n        avg(salary)\n    FROM employees\n)",
   "execution_count": null
  },
  {
   "cell_type": "code",
   "id": "bff0190b-d539-439e-b98a-fb58221ac633",
   "metadata": {
    "language": "sql",
    "name": "_03_nth_highestsal"
   },
   "outputs": [],
   "source": "-- Using CTE and window functions\nWITH nth_sal \nAS \n(\n    select \n        *,\n        row_number() over(order by salary desc) as highsal\n    from employees\n)\n\nselect * from nth_sal where highsal = 3;\n\n-- Using subquery and window functions\n\nselect \n    *\nfrom \n(\n    select \n        *,\n        row_number() over(order by salary desc) as highsal\n    from employees\n) as highsal\nwhere highsal = 2;\n\n-- Without using CTE, subquery or ranking function\n\nselect * from employees order by salary desc limit 1 offset 1 ; -- here, we get the 2nd highest and offset value can be altered depend on nth value.",
   "execution_count": null
  },
  {
   "cell_type": "code",
   "id": "4c55828a-e59c-4531-be69-1fb2e5dbe1f0",
   "metadata": {
    "language": "sql",
    "name": "_04_duplicate_records"
   },
   "outputs": [],
   "source": "-- using count\n\nselect \n    emp_id, -- column names can be added/altered as per requirement\n    count(1) as dup_count\nfrom employees\ngroup by emp_id\nhaving count(1) > 1;\n\n-- using CTE and windowing functions\n\nwith dup_records\nas\n(\n    select\n        *,\n        row_number() over(partition by firstname, lastname order by emp_id) as dup_order\n    from employees\n    \n)\n\nselect * from dup_records where dup_order > 1;",
   "execution_count": null
  },
  {
   "cell_type": "code",
   "id": "9dbbd25b-fab7-42b9-b1db-605ec9cdf68e",
   "metadata": {
    "language": "sql",
    "name": "_05_delete_dup_records"
   },
   "outputs": [],
   "source": "DELETE FROM employees\nWHERE emp_id NOT IN \n(\n    SELECT MIN(emp_id)\n    FROM employees\n    GROUP BY firstname, lastname\n);\n",
   "execution_count": null
  },
  {
   "cell_type": "code",
   "id": "966eec46-9bf4-4e5f-bd5f-fda4a392b2a3",
   "metadata": {
    "language": "sql",
    "name": "_06_same_salary"
   },
   "outputs": [],
   "source": "-- using CTE\n\nwith same_sal\nas\n(\n    select salary, count(1) as sal_count from employees\n    group by salary \n    having count(1) > 1\n)\nselect * from employees\nwhere salary in (select salary from same_sal);\n\n-- using window functions\n\nSELECT *\nFROM (\n    SELECT e.*, COUNT(*) OVER(PARTITION BY salary) AS sal_count\n    FROM employees e\n) t\nWHERE sal_count > 1;\n\n-- using self join\n\nSELECT e1.*\nFROM employees e1\nJOIN employees e2 \n  ON e1.salary = e2.salary \n AND e1.emp_id <> e2.emp_id;",
   "execution_count": null
  },
  {
   "cell_type": "code",
   "id": "ef05b9b3-91c7-4975-9663-b0c9f2ed915c",
   "metadata": {
    "language": "sql",
    "name": "_07_joined_last30days"
   },
   "outputs": [],
   "source": "--straightforward\n\nSELECT *\nFROM employees\nWHERE DATEDIFF(day, hiredate, CURRENT_DATE) < 30;\n\n\n--using subquery (optional)\n\nselect * from\n(\n    select *, datediff(day, hiredate, current_date()) as empie from employees\n) as datedifftable\nwhere empie < 30\norder by empie asc;\n\n\n--using window functions\n\nwith hirediff\nas \n(\n    select e.*, datediff(day, hiredate, current_date()) as empie from employees e\n)\n\nselect e.* from hirediff as e where empie < 30;",
   "execution_count": null
  },
  {
   "cell_type": "code",
   "id": "0aa183e8-b956-4ab5-b719-476d290170d0",
   "metadata": {
    "language": "sql",
    "name": "_08_top3_without_limit",
    "codeCollapsed": false
   },
   "outputs": [],
   "source": "-- using window functions\nwith\nsal_ranked\nas\n(\n    select\n        *,\n        dense_rank() over(order by salary desc) as sal_rank\n    from employees\n)\nselect \n    distinct salary \nfrom \n    sal_ranked \nwhere \n    sal_rank <=3\norder by \n    salary desc",
   "execution_count": null
  },
  {
   "cell_type": "code",
   "id": "4279c3fb-9660-41ea-8a4d-b8c2d4df353d",
   "metadata": {
    "language": "sql",
    "name": "_09_common_two_tables"
   },
   "outputs": [],
   "source": "-- using intersect\n\nselect * from employees\nintersect\nselect * from employees;\n\n-- using EXISTS\n\nSELECT *\nFROM employees e\nWHERE EXISTS (\n    SELECT 1\n    FROM employees e1\n    WHERE e1.emp_id = e.emp_id);",
   "execution_count": null
  },
  {
   "cell_type": "markdown",
   "id": "b97c7b02-f075-4344-97b5-6d23c7a42f0b",
   "metadata": {
    "name": "_02_09_2025",
    "collapsed": false
   },
   "source": "#### 02/09/2025"
  },
  {
   "cell_type": "code",
   "id": "1f6144ba-2a8f-44e2-ae65-0bccfe675df4",
   "metadata": {
    "language": "sql",
    "name": "_10_manager_no_employees"
   },
   "outputs": [],
   "source": "-- How would you find all the managers who do not manage any employees?\n\nSELECT m.emp_id, m.firstname AS manager_name\nFROM employees m\nLEFT JOIN employees e\n  ON e.manager_id = m.emp_id\nWHERE e.emp_id IS NULL;\n",
   "execution_count": null
  },
  {
   "cell_type": "code",
   "id": "8d3afb15-9dc6-4997-992b-8b2bdb483829",
   "metadata": {
    "language": "sql",
    "name": "_11_dept_morethan_10emp"
   },
   "outputs": [],
   "source": "-- Write a SQL query to display the departments with more than 10 employees.\n\nselect \n    d.dept_id,\n    d.dept_name,\n    count(e.emp_id) as dept_emp_count\nfrom \n    dept d\njoin \n    employees e \non \n    e.dept_id = d.dept_id \ngroup by\n    d.dept_id, d.dept_name\nhaving count(e.emp_id) > 10",
   "execution_count": null
  },
  {
   "cell_type": "code",
   "id": "7545f70a-1dd6-4791-89f2-3ef790f92230",
   "metadata": {
    "language": "sql",
    "name": "_12_empname_startswith_A"
   },
   "outputs": [],
   "source": "-- How do you find the names of employees that start with ‘A’?\n\nselect\n    firstname,\n    middlename,\n    lastname\nfrom \n    employees\nwhere firstname ILIKE 'a%'",
   "execution_count": null
  },
  {
   "cell_type": "code",
   "id": "28ac5ca3-4443-4121-801a-a5355b71454f",
   "metadata": {
    "language": "sql",
    "name": "_13_empname_managername"
   },
   "outputs": [],
   "source": "-- Write a query to retrieve the employee details along with their manager details.\n\nselect\n    e.emp_id as employee_id,\n    m.manager_id as manager_id,\n    e.firstname as employeename,\n    m.firstname as managername\nfrom\n    employees e\nleft join\n    employees m\non e.manager_id = m.emp_id",
   "execution_count": null
  },
  {
   "cell_type": "code",
   "id": "f5783ecd-db6e-4a88-ae0d-1f78f9b77d54",
   "metadata": {
    "language": "sql",
    "name": "_14_dept_high_sal"
   },
   "outputs": [],
   "source": "-- Write a SQL query to get the employee with the highest salary per department.\n\nselect\n    firstname,\n    lastname,\n    salary,\n    dept_id\nfrom\n(\n    select \n        *,\n        row_number() over(partition by dept_id order by salary desc) as dept_sal\n    from employees  \n) as emp_high_sal\nwhere dept_sal = 1\norder by dept_id asc",
   "execution_count": null
  },
  {
   "cell_type": "code",
   "id": "bdbc8d94-5fff-4be6-87e6-1e53bd2b63cc",
   "metadata": {
    "language": "sql",
    "name": "_15_total_sal_dept"
   },
   "outputs": [],
   "source": "-- Write a query to find the total salary paid to each department.\n\nselect\n    dept_id,\n    sum(salary) as total_dept_sal\nfrom\n    employees\ngroup by dept_id\norder by total_dept_sal desc",
   "execution_count": null
  },
  {
   "cell_type": "markdown",
   "id": "c768b9c1-1416-4b36-8bb1-4938ac05b913",
   "metadata": {
    "name": "_03_09_2025",
    "collapsed": false
   },
   "source": "#### 03/09/2025"
  },
  {
   "cell_type": "code",
   "id": "1392f30d-6061-4373-af1e-a1817523f9f1",
   "metadata": {
    "language": "sql",
    "name": "_16_work_morethanone_Dept"
   },
   "outputs": [],
   "source": "-- How would you find employees who work in more than one department?\nselect\n    emp_id,\n    count(distinct dept_id) as emp_work_dept_count\nfrom\n    employees\ngroup by\n    emp_id\nhaving\n    emp_work_dept_count > 1\norder by\n    emp_work_dept_count desc",
   "execution_count": null
  },
  {
   "cell_type": "code",
   "id": "00df3a0d-700e-494d-8d03-3dac2e7524f8",
   "metadata": {
    "language": "sql",
    "name": "_17_empinfo_with_salary"
   },
   "outputs": [],
   "source": "-- Write a query to fetch the employee details along with their salary in ascending order.\n\nselect\n    emp_id,\n    firstname,\n    lastname,\n    salary\nfrom \n    employees\norder by \n    salary asc",
   "execution_count": null
  },
  {
   "cell_type": "code",
   "id": "67057047-a586-4f35-a40c-43310044b68e",
   "metadata": {
    "language": "sql",
    "name": "_18_emp_notIN_ITdept"
   },
   "outputs": [],
   "source": "-- Write a SQL query to find all employees whose department is not in the IT department.\n\nselect\n    e.emp_id,\n    e.firstname,\n    e.lastname,\n    d.dept_name\nfrom    \n    employees e\njoin\n    dept d\non e.dept_id = d.dept_id\nwhere d.dept_name NOT ILIKE 'IT%' ",
   "execution_count": null
  },
  {
   "cell_type": "code",
   "id": "7444f7b0-d1a6-4517-84f6-4ee1faf0c99f",
   "metadata": {
    "language": "sql",
    "name": "_19_last_record"
   },
   "outputs": [],
   "source": "-- How do you retrieve the last record from a table?\n\n--“In SQL, rows are unordered, so there’s no concept of a ‘last record’ without an ORDER BY. If we have a meaningful column like created_at or an auto-increment id, we can use ORDER BY … DESC LIMIT 1 to fetch the latest.”\n\nselect\n    *\nfrom employees\norder by hiredate desc limit 1",
   "execution_count": null
  },
  {
   "cell_type": "code",
   "id": "30980ed5-92e3-49de-b930-1ca888883ad3",
   "metadata": {
    "language": "sql",
    "name": "_20_empcount_each_dept"
   },
   "outputs": [],
   "source": "-- Write a query to count the number of employees in each department.\n\nselect\n    d.dept_id,\n    d.dept_name,\n    count(e.emp_id) as num_of_employees\nfrom \n    dept d\njoin\n    employees e\non \n    d.dept_id = e.dept_id\ngroup by\n    d.dept_id, d.dept_name\norder by \n    num_of_employees desc",
   "execution_count": null
  },
  {
   "cell_type": "markdown",
   "id": "8e146219-9dca-4215-bb34-07b8f8dac848",
   "metadata": {
    "name": "_04_09_2025",
    "collapsed": false
   },
   "source": "### 04/09/2025"
  },
  {
   "cell_type": "code",
   "id": "4769f885-53c3-49a7-9789-634398721dc7",
   "metadata": {
    "language": "sql",
    "name": "_21_current_datetime"
   },
   "outputs": [],
   "source": "-- Write a query to fetch the current date and time in SQL.\n\nselect \n    current_date() as current_sql_date,\n    current_time() as current_sql_time",
   "execution_count": null
  },
  {
   "cell_type": "code",
   "id": "00418215-dec9-4d06-9e47-2d22df12a23e",
   "metadata": {
    "language": "sql",
    "name": "_22_salary_between_two"
   },
   "outputs": [],
   "source": "-- Write a query to find employees whose salary is between 50,000 and 100,000\n\nselect\n    firstname,\n    lastname,\n    salary\nfrom \n    employees\nwhere\n    salary between 50000 and 100000",
   "execution_count": null
  },
  {
   "cell_type": "code",
   "id": "2375673b-419d-4967-a441-55ac1a3afb2e",
   "metadata": {
    "language": "sql",
    "name": "_23_first_three_chars"
   },
   "outputs": [],
   "source": "-- How do you retrieve the first three characters of a string in SQL?\n\nselect \n    left(firstname, 3) as firstname_first_three,\n    left(lastname, 3) as lastname_first_three\nfrom\n    employees",
   "execution_count": null
  },
  {
   "cell_type": "code",
   "id": "d4343f6a-ef26-4f4b-a663-f6ee0700976d",
   "metadata": {
    "language": "sql",
    "name": "_24_thirdsal_without_limit"
   },
   "outputs": [],
   "source": "-- How do you retrieve the third highest salary without using TOP, LIMIT, or OFFSET?\n\nWITH\nthird_high_sal\nAS\n(\n    select\n        *,\n        dense_rank() over(order by salary desc) as sal_rank\n    from\n        employees\n)\nselect \n    distinct salary\nfrom\n    third_high_sal\nwhere\n    sal_rank = 3",
   "execution_count": null
  },
  {
   "cell_type": "code",
   "id": "590d5186-9abb-41b1-ab72-b9e0ea95335e",
   "metadata": {
    "language": "sql",
    "name": "_25_cumulative_sum"
   },
   "outputs": [],
   "source": "-- Write a query to calculate the cumulative sum of salaries ordered by hire date.\n\nSELECT\n    emp_id,\n    hiredate,\n    salary,\n    SUM(salary) OVER(ORDER BY hiredate) AS cum_sal\nFROM employees\norder by hiredate;",
   "execution_count": null
  },
  {
   "cell_type": "markdown",
   "id": "c9cf6eaf-97a3-4633-a086-65ade9188d6e",
   "metadata": {
    "name": "_05_09_2025",
    "collapsed": false
   },
   "source": "### 04/09/2025"
  },
  {
   "cell_type": "code",
   "id": "e4be3ea9-a767-417b-8018-0f108000da8c",
   "metadata": {
    "language": "sql",
    "name": "_26_running_Rownumber"
   },
   "outputs": [],
   "source": "-- How do you write a query to generate a running row number for each employee?\n\nselect\n    *,\n    row_number() over(order by emp_id) as running_row_num\nfrom employees",
   "execution_count": null
  },
  {
   "cell_type": "code",
   "id": "63463473-f3c0-4b8d-aeda-99fcbe0ba2fa",
   "metadata": {
    "language": "sql",
    "name": "_27_dept_top2sal"
   },
   "outputs": [],
   "source": "-- Write a query to fetch the top 2 salaries in each department.\n\nWITH\ntoptwosal\nas\n(\n    select\n        *,\n        dense_rank() over(partition by dept_id order by salary desc) as dept_toptwo_sal\n    from\n        employees\n)\nselect \n    firstname,\n    lastname,\n    dept_id,\n    salary\nfrom\n    toptwosal where dept_toptwo_sal <= 2\norder by dept_id, salary desc",
   "execution_count": null
  },
  {
   "cell_type": "code",
   "id": "dbe58963-f90f-41dc-8d07-951707fb994b",
   "metadata": {
    "language": "sql",
    "name": "_28_dept_no_emp"
   },
   "outputs": [],
   "source": "-- Write a query to return departments that don’t have any employees.\n\nselect\n    d.dept_id,\n    d.dept_name,\n    count(e.emp_id) as emp_count\nfrom\n    dept d\nleft join employees e\non d.dept_id = e.dept_id\ngroup by d.dept_id, d.dept_name\nhaving count(e.emp_id) = 0",
   "execution_count": null
  },
  {
   "cell_type": "code",
   "id": "c5002cdd-b5b3-4fb2-a240-b176ef61bd07",
   "metadata": {
    "language": "sql",
    "name": "_29_hired_same_year"
   },
   "outputs": [],
   "source": "-- Write a query to list employees who were hired in the same year.\nWITH \nhireyear\nas\n(\nselect\n    firstname,\n    lastname,\n    year(hiredate) as hired_year,\n    count(emp_id) over(partition by year(hiredate)) as part_hiredate_year\nfrom   \n    employees\n)\nselect * from hireyear\nwhere part_hiredate_year > 1\norder by hired_year ",
   "execution_count": null
  },
  {
   "cell_type": "code",
   "id": "aa1e38c1-1c52-4280-9b23-cbe4a454cdb0",
   "metadata": {
    "language": "sql",
    "name": "_30_maxsal_deptwise"
   },
   "outputs": [],
   "source": "-- Write a query to find the maximum salary in each department without using GROUP BY.\n\nWith maxsal\nas \n(\n    select\n        *,\n        row_number() over(partition by dept_id order by salary desc) as dept_sal\n    from employees\n)\nselect\n    firstname,\n    lastname,\n    dept_id,\n    salary\nfrom maxsal\nwhere dept_sal = 1\norder by dept_id",
   "execution_count": null
  },
  {
   "cell_type": "code",
   "id": "6ccb8d8d-9822-4ba8-86b1-306e4da72187",
   "metadata": {
    "language": "sql",
    "name": "_31_same_hiredate_manager"
   },
   "outputs": [],
   "source": "-- How do you find employees whose hire date is the same as their manager’s hire date?\n\nselect\n    e.firstname as empname,\n    m.firstname as managername,\n    e.hiredate as emp_hiredate,\n    m.hiredate as man_hiredate\nfrom\n    employees e\nleft join \n    employees m\non \n    e.manager_id = m.emp_id\nwhere e.hiredate = m.hiredate",
   "execution_count": null
  },
  {
   "cell_type": "code",
   "id": "39654788-f6c3-4a8e-a71c-a0061f67b787",
   "metadata": {
    "language": "sql",
    "name": "_32_sal_greaterthan_manager"
   },
   "outputs": [],
   "source": "-- Write a query to fetch employees with salaries greater than the salary of their manager.\n\nselect\n    e.firstname as employee_name,\n    m.firstname as manager_name,\n    e.salary as employee_salary,\n    m.salary as manager_salary\nfrom\n    employees e\njoin\n    employees m\non \n    e.manager_id = m.emp_id\nwhere e.salary > m.salary",
   "execution_count": null
  },
  {
   "cell_type": "code",
   "id": "80d99c94-20dc-4e20-af01-930fefebfac1",
   "metadata": {
    "language": "sql",
    "name": "_33_sal_equals_avgsal"
   },
   "outputs": [],
   "source": "-- Write a query to fetch employees whose salary equals the average salary in their department.\n\nWITH\navg_sal\nas\n(\n    select\n        *,\n        round(avg(salary) over(partition by dept_id),0) as dept_avg_sal\n    from employees\n)\nselect \n    firstname,\n    lastname,\n    dept_id,\n    salary\nfrom \n    avg_sal\nwhere \n    salary = dept_avg_sal\norder by \n    dept_id",
   "execution_count": null
  },
  {
   "cell_type": "code",
   "id": "92672d14-c962-4710-85be-f63b1a0a511b",
   "metadata": {
    "language": "sql",
    "name": "_34_YOY_sales_growth"
   },
   "outputs": [],
   "source": "-- Write a query to calculate year-over-year growth in sales.\n\nselect\n    *,\n    year(hiredate) as year_hiredate,\n    sum(salary) over(partition by year(hiredate)) as ranke\n    from employees\norder by year_hiredate asc",
   "execution_count": null
  },
  {
   "cell_type": "markdown",
   "id": "b10301c0-a39e-476f-838a-fd07ed6d22a4",
   "metadata": {
    "name": "_07_09_2025",
    "collapsed": false
   },
   "source": ""
  },
  {
   "cell_type": "code",
   "id": "179b67fc-5aea-4227-baea-f33a83074517",
   "metadata": {
    "language": "sql",
    "name": "_35_five_recent_hire"
   },
   "outputs": [],
   "source": "-- Find the 5 most recently hired employees in each department.\nWITH\nrecenthire\nAS\n(\n    select \n        *,\n        dense_rank() over(partition by dept_id order by hiredate desc) as dept_hire\n    from \n        employees\n)\nselect \n    emp_id,\n    firstname,\n    lastname,\n    dept_id,\n    hiredate\nfrom recenthire\nwhere dept_hire <=5\norder by dept_id;",
   "execution_count": null
  },
  {
   "cell_type": "code",
   "id": "dbdec3ae-a315-479d-9d93-8ccc473fd1d0",
   "metadata": {
    "language": "sql",
    "name": "_36_avgsal_exceed_compavg"
   },
   "outputs": [],
   "source": "-- List departments where the average salary exceeds the overall company average.\n\nWITH\ndept_avg_sal\nas\n(\n    select \n        dept_id,\n        avg(salary) as dept_avg\n    from employees\n    group by dept_id\n)\nselect \n    distinct dept_id \nfrom \n    dept_avg_sal\nwhere dept_avg > (\n            select\n                round(avg(salary),0) as company_avg\n            from\n                employees\n            )",
   "execution_count": null
  },
  {
   "cell_type": "code",
   "id": "26450f89-1d47-41f8-88ea-61771f281dc4",
   "metadata": {
    "language": "sql",
    "name": "_37_emp_earn_more"
   },
   "outputs": [],
   "source": "-- Retrieve employees who earn more than their manager.\n\nselect\n    e.firstname as employee_name,\n    m.firstname as manager_name,\n    e.salary as employee_salary,\n    m.salary as manager_salary\nfrom\n    employees e\njoin   \n    employees m\non \n    e.manager_id = m.emp_id\nwhere\n    e.salary > m.salary",
   "execution_count": null
  },
  {
   "cell_type": "code",
   "id": "e54a3cc1-f73f-45a1-ac94-326c793436df",
   "metadata": {
    "language": "sql",
    "name": "_38_hired_before_manager"
   },
   "outputs": [],
   "source": "-- Find employees who were hired before their manager.\nselect\n    e.emp_id as employee_id,\n    e.firstname as employee_name,\n    m.firstname as manager_name,\n    e.hiredate as employee_hire_date,\n    m.hiredate as manager_hire_date\nfrom\n    employees e\n    join employees m on e.manager_id = m.emp_id\nwhere\n    manager_hire_date > employee_hire_date\norder by\n    employee_id asc",
   "execution_count": null
  },
  {
   "cell_type": "code",
   "id": "ced1bf0f-29f2-4c43-a3cb-dfbdcac83b2f",
   "metadata": {
    "language": "sql",
    "name": "_39_emp_sal_lessthan_70000"
   },
   "outputs": [],
   "source": "-- Identify departments where no employee has a salary above 70,000.\nwith dept_wise_sal as (\n    select\n        dept_id,\n        max(salary) as dept_max_sal\n    from\n        employees\n    group by\n        dept_id\n)\nselect\n    *\nfrom\n    dept_wise_sal\nwhere\n    dept_max_sal <= 70000;",
   "execution_count": null
  },
  {
   "cell_type": "markdown",
   "id": "11d36abd-d433-4c55-b91c-88147708e268",
   "metadata": {
    "name": "_08_09_2025",
    "collapsed": false
   },
   "source": ""
  },
  {
   "cell_type": "code",
   "id": "9409bcf1-4faf-4c45-a5a6-379f491ed296",
   "metadata": {
    "language": "sql",
    "name": "_40_birthday_this_month"
   },
   "outputs": [],
   "source": "-- Find employees whose birthday falls in the current month.\nselect\n    emp_id,\n    firstname as employeename,\n    month(hiredate) as birth_month\nfrom\n    employees\nwhere\n    month(hiredate) = month(current_date())\norder by\n    emp_id",
   "execution_count": null
  },
  {
   "cell_type": "code",
   "id": "5ad7301e-10dd-466f-8767-1123df8d09ab",
   "metadata": {
    "language": "sql",
    "name": "_41_young_emp_deptwise"
   },
   "outputs": [],
   "source": "-- Retrieve the youngest employee in each department.\nwith dept_wise_youngest as (\n    select\n        emp_id,\n        firstname,\n        lastname,\n        dept_id,\n        DOB,\n        dense_rank() over(partition by dept_id order by dob desc) as dob_dept_order\n    from\n        employees\n)\nselect \n    * \nfrom \n    dept_wise_youngest\nwhere\n    dob_dept_order = 1\norder by\n    dept_id",
   "execution_count": null
  },
  {
   "cell_type": "code",
   "id": "1c21ced8-000b-41fd-8a61-45b339d28178",
   "metadata": {
    "language": "sql",
    "name": "_42_oldest_three"
   },
   "outputs": [],
   "source": "-- Find the oldest 3 employees in the company.\nselect \n    emp_id,\n    firstname,\n    lastname,\n    DOB\nfrom\n    employees\norder by\n    DOB\nlimit 3",
   "execution_count": null
  },
  {
   "cell_type": "code",
   "id": "0870fbc9-1677-46c6-b1cf-223d3dd63fb2",
   "metadata": {
    "language": "sql",
    "name": "_43_same_manager_dept"
   },
   "outputs": [],
   "source": "-- List employees who share both the same manager and department.\nselect\n    e.emp_id as employee_id,\n    e.firstname as employee_name,\n    e.manager_id manager_id,\n    m.firstname as manager_name,\n    e.dept_id as employee_department\nfrom\n    employees e join employees m\non\n    e.manager_id = m.emp_id\nwhere\n    (e.manager_id, e.dept_id) IN\n(\n    select manager_id, dept_id\n    from employees\n    group by manager_id, dept_id\n    having count(emp_id) >1\n)",
   "execution_count": null
  },
  {
   "cell_type": "code",
   "id": "e459347b-14ae-4d21-8f0e-1c420acab8fe",
   "metadata": {
    "language": "sql",
    "name": "_44_head_not_paid_high"
   },
   "outputs": [],
   "source": "-- Find departments where the manager of at least one employee is not the highest-paid person in that department.\nWITH dept_max AS (\n    SELECT \n        dept_id,\n        MAX(salary) AS dept_max_sal\n    FROM employees\n    GROUP BY dept_id\n)\nSELECT \n    DISTINCT e.dept_id\nFROM employees e\nJOIN employees m ON e.manager_id = m.emp_id\nJOIN dept_max d ON e.dept_id = d.dept_id\nWHERE m.salary < d.dept_max_sal;",
   "execution_count": null
  },
  {
   "cell_type": "code",
   "id": "6c432f45-aefb-4b62-84b9-43c22c1e3f63",
   "metadata": {
    "language": "sql",
    "name": "_45_hired_before_dept_created"
   },
   "outputs": [],
   "source": "-- Get employees who joined before the department was created.\n\nselect \n    e.firstname,\n    e.hiredate,\n    e.dept_id,\n    d.created_date\nfrom employees e\njoin dept d\non e.dept_id = d.dept_id\nwhere e.hiredate < d.created_date;",
   "execution_count": null
  },
  {
   "cell_type": "markdown",
   "id": "6f7aff9c-d815-4a16-875d-f0204ad920b2",
   "metadata": {
    "name": "_09_09_2025",
    "collapsed": false
   },
   "source": ""
  },
  {
   "cell_type": "code",
   "id": "492e8c20-d864-429f-b3b5-47f12cc8a90c",
   "metadata": {
    "language": "sql",
    "name": "_46_emp_floor_two",
    "codeCollapsed": false
   },
   "outputs": [],
   "source": "-- Identify employees who work in departments located on floor number 2.\n\nselect \n    e.emp_id,\n    e.firstname,\n    e.lastname,\n    d.floor_number\nfrom \n    employees e \njoin\n    dept d\non \n    e.dept_id = d.dept_id\nwhere \n    d.floor_number = 2",
   "execution_count": null
  },
  {
   "cell_type": "code",
   "id": "25b38a79-c807-41b7-89d4-969c0ad570eb",
   "metadata": {
    "language": "sql",
    "name": "_47_emp_NO_phone"
   },
   "outputs": [],
   "source": "-- Find employees who have no phone number listed.\n\nselect \n    emp_id,\n    firstname,\n    lastname\nfrom \n    employees\nwhere phone is null",
   "execution_count": null
  },
  {
   "cell_type": "code",
   "id": "a7acb28b-aee2-41cb-ae22-3adad186b574",
   "metadata": {
    "language": "sql",
    "name": "_48_empname_startlast_same"
   },
   "outputs": [],
   "source": "-- Retrieve employees who have both first and last names starting with the same letter.\n\nselect\n    emp_id,\n    firstname,\n    lastname\nfrom\n    employees\nwhere\n   lower(left(firstname,1)) = lower(left(lastname,1))",
   "execution_count": null
  },
  {
   "cell_type": "code",
   "id": "8e645038-9cc5-4739-b6a4-b317dd95d161",
   "metadata": {
    "language": "sql",
    "name": "_49_middlename_no_manager"
   },
   "outputs": [],
   "source": "-- List employees who have a middle name but no manager assigned.\n\nselect\n    emp_id,\n    firstname,\n    middlename,\n    lastname,\n    manager_id\nfrom\n    employees\nwhere\n    middlename is not null and manager_id is null",
   "execution_count": null
  },
  {
   "cell_type": "code",
   "id": "7fd04ee4-120b-4631-9016-d24bbb60821f",
   "metadata": {
    "language": "sql",
    "name": "_50_totalsal_greater_budget"
   },
   "outputs": [],
   "source": "-- Find departments where the total salary spend is more than the budget.\n\nselect\n    e.dept_id,\n    d.budget,\n    sum(e.salary) as dept_total_sum\nfrom\n    employees e\njoin\n    dept d\non \n    e.dept_id = d.dept_id\ngroup by \n    e.dept_id, d.budget\nhaving \n    dept_total_sum > d.budget",
   "execution_count": null
  },
  {
   "cell_type": "markdown",
   "id": "7f698778-fa85-44c1-b83d-04c344ae4ad0",
   "metadata": {
    "name": "_10_09_2025",
    "collapsed": false
   },
   "source": ""
  },
  {
   "cell_type": "code",
   "id": "c975e0df-2a35-456d-9b11-bbb3496e6ea6",
   "metadata": {
    "language": "sql",
    "name": "_51_emp_no_dept"
   },
   "outputs": [],
   "source": "-- List employees who do not belong to any department.\n\nselect\n    emp_id,\n    firstname,\n    lastname,\n    dept_id\nfrom\n    employees\nwhere\n    dept_id is null",
   "execution_count": null
  },
  {
   "cell_type": "code",
   "id": "96924963-2fe7-4fc5-99dc-ec98b02a9fb8",
   "metadata": {
    "language": "sql",
    "name": "_52_manger_5more_emp"
   },
   "outputs": [],
   "source": "-- Identify managers who manage more than 5 employees.\n\nselect\n    m.manager_id,\n    m.firstname as manager_name,\n    count(e.emp_id) as emp_count\nfrom\n    employees m\njoin \n    employees e\non\n    m.emp_id = e.manager_id\ngroup by\n    m.manager_id, m.firstname\nhaving\n    count(e.emp_id) > 5\norder by\n    emp_count desc",
   "execution_count": null
  },
  {
   "cell_type": "code",
   "id": "9a417efa-a7ef-434c-9295-265d4d67b865",
   "metadata": {
    "language": "sql",
    "name": "_53_report_specific_manager"
   },
   "outputs": [],
   "source": "-- Find employees who report directly or indirectly to a specific manager.\n\nwith recursive reports(emp_id, firstname, lastname, manager_id) as (\n    -- Direct reports\n    select emp_id, firstname, lastname, manager_id\n    from employees\n    where manager_id = 177368\n\n    union all\n\n    -- Indirect reports\n    select e.emp_id, e.firstname, e.lastname, e.manager_id\n    from employees e\n    join reports r on e.manager_id = r.emp_id\n)\nselect *\nfrom reports\norder by manager_id, emp_id;",
   "execution_count": null
  },
  {
   "cell_type": "code",
   "id": "a80b5bcc-011a-40df-91ce-a44bc6597f09",
   "metadata": {
    "language": "sql",
    "name": "_54_dept_avg_age"
   },
   "outputs": [],
   "source": "-- Get the average age of employees by department.\nselect\n    dept_id,\n    round(avg(datediff(year,dob, current_date())),1) as dept_avg_age\nfrom\n    employees\ngroup by\n    dept_id\norder by\n    dept_id",
   "execution_count": null
  },
  {
   "cell_type": "code",
   "id": "24c196b8-729f-47c2-8ae7-2f846e2d9046",
   "metadata": {
    "language": "sql",
    "name": "_55_sal_top10percent_dept"
   },
   "outputs": [],
   "source": "-- Find employees whose salary is in the top 10% of their department.\n\nselect \n    *\nfrom\n(\n    select firstname, lastname, dept_id,\n    percent_rank() over(partition by dept_id order by salary desc) as pr \n    from employees\n) t\nwhere pr <= 0.1\norder by dept_id\n\n/*\nselect *\nfrom (\n    select *,\n           ntile(10) over (partition by dept_id order by salary desc) as nt\n    from employees\n) t\nwhere nt = 1\norder by dept_id;\n*/",
   "execution_count": null
  },
  {
   "cell_type": "code",
   "id": "0681c2cc-2518-4d85-bbbf-4beeba5a4ffa",
   "metadata": {
    "language": "sql",
    "name": "_56_same_lastname_diff_dept"
   },
   "outputs": [],
   "source": "-- Retrieve employees who have the same last name but work in different departments.\n\nselect distinct\n    e1.lastname,\n    e2.lastname,\n    e1.dept_id,\n    e2.dept_id\nfrom employees e1\njoin employees e2 \n  on e1.lastname = e2.lastname\n and e1.dept_id != e2.dept_id;\n\n/*select lastname\nfrom employees\ngroup by lastname\nhaving count(distinct dept_id) > 1;*/",
   "execution_count": null
  },
  {
   "cell_type": "code",
   "id": "f3b3328a-7bae-4c5f-bd2e-df1dcfa609c8",
   "metadata": {
    "language": "sql",
    "name": "_57_dob_hire_same_month"
   },
   "outputs": [],
   "source": "-- Find employees whose hire date and date of birth fall on the same day of the month.\n\nselect \n    firstname,\n    lastname,\n    hiredate,\n    dob\nfrom\n    employees\nwhere\n    day(hiredate) = day(dob)",
   "execution_count": null
  },
  {
   "cell_type": "code",
   "id": "6606bc9d-4d5d-4f3f-aa17-513819f6ae38",
   "metadata": {
    "language": "sql",
    "name": "_58_dept_no_head"
   },
   "outputs": [],
   "source": "-- Identify departments without a head assigned.\n\nselect\n    dept_id,\n    dept_name\nfrom\n    dept\nwhere\n    head_id is null",
   "execution_count": null
  },
  {
   "cell_type": "markdown",
   "id": "e1f095b5-970b-426b-8fb6-b97115bdc1a8",
   "metadata": {
    "name": "_11_09_2025",
    "collapsed": false
   },
   "source": ""
  },
  {
   "cell_type": "code",
   "id": "1bf6fef6-3132-4c84-a4ec-09f1c38497cc",
   "metadata": {
    "language": "sql",
    "name": "_59_head_after_deptcreated"
   },
   "outputs": [],
   "source": "-- List departments where the head’s hire date is after the department’s created date.\n\n-- If there’s no `head_id` in `dept`, the question can’t be answered as stated. Ignoring it is the right move unless schema changes.\n",
   "execution_count": null
  },
  {
   "cell_type": "code",
   "id": "6b989f2a-0a92-4274-b7a4-4e7bb33efe5a",
   "metadata": {
    "language": "sql",
    "name": "_60_diff_sal_high_low"
   },
   "outputs": [],
   "source": "-- Retrieve the difference between the highest and lowest salaries in each department.\n\nselect\n    dept_id,\n    max(salary) - min(salary) as dept_sal_difference  \nfrom\n    employees\ngroup by\n    dept_id\norder by\n    dept_id",
   "execution_count": null
  },
  {
   "cell_type": "code",
   "id": "8db47e19-524a-4f0d-89e4-b747d544d990",
   "metadata": {
    "language": "sql",
    "name": "_61_maildomain_dept_loc"
   },
   "outputs": [],
   "source": "-- Find employees whose email domain matches their department location name.\n\nselect\n    e.dept_id,\n    substr e.email,\n    d.dept_name\nfrom\n    employees e join dept d\non e.dept_id = d.dept_id",
   "execution_count": null
  },
  {
   "cell_type": "code",
   "id": "16c18933-2bbd-4fb8-8f5b-c38814251010",
   "metadata": {
    "language": "sql",
    "name": "_62_hired_leap_year"
   },
   "outputs": [],
   "source": "-- List employees who were hired in a leap year.\n\nselect *\nfrom employees\nwhere \n    (year(hiredate) % 400 = 0)\n    or (year(hiredate) % 4 = 0 and year(hiredate) % 100 != 0);",
   "execution_count": null
  },
  {
   "cell_type": "code",
   "id": "52c3b218-624f-4a08-bdf3-8340a74c2b5a",
   "metadata": {
    "language": "sql",
    "name": "_63_palindromic_firstname"
   },
   "outputs": [],
   "source": "-- Retrieve employees with palindromic first names.\n\nselect \n    firstname\nfrom\n    employees\nwhere firstname = reverse(firstname)",
   "execution_count": null
  },
  {
   "cell_type": "code",
   "id": "31a181c6-2884-46a4-b7ae-dcee0ceab568",
   "metadata": {
    "language": "sql",
    "name": "_64_top3_highsal_avgsal"
   },
   "outputs": [],
   "source": "-- Identify the top 3 highest-paying departments by average salary.\n\nselect\n    dept_id,\n    round(avg(salary),0) as dept_avg_sal\nfrom\n    employees\ngroup by \n    dept_id\norder by\n    dept_avg_sal desc\nlimit 3",
   "execution_count": null
  },
  {
   "cell_type": "markdown",
   "id": "b343ce47-538d-4a9e-823e-a8ef9d67e3c1",
   "metadata": {
    "name": "_12_09_2025"
   },
   "source": ""
  },
  {
   "cell_type": "code",
   "id": "8043192a-20df-4210-aac0-00437701d13a",
   "metadata": {
    "language": "sql",
    "name": "_65_dept3rd_sal"
   },
   "outputs": [],
   "source": "-- Find employees whose salary ranks 3rd within their department.\n\nselect\n    *\nfrom\n(\n    select emp_id, firstname,lastname, salary, dept_id,\n    dense_rank() over(partition by dept_id order by salary desc) as dept_sal\n    from employees\n) t\nwhere dept_sal = 3",
   "execution_count": null
  },
  {
   "cell_type": "markdown",
   "id": "00173535-9860-43ed-b894-03cbf0858021",
   "metadata": {
    "name": "_13_09_2025",
    "collapsed": false
   },
   "source": ""
  },
  {
   "cell_type": "code",
   "id": "97aac8f5-25df-46b7-bff6-76e5c99eb11b",
   "metadata": {
    "language": "sql",
    "name": "_66_nohired_2years"
   },
   "outputs": [],
   "source": "-- List departments where no employees were hired in the last 2 years.\n\nselect\n    distinct edept_id\nfrom\n    employees\nwhere\n    hiredate in (select hiredate from employees where datediff(year,hiredate, current_date()) = 2)\nand\n    e1.dept_id \n    ",
   "execution_count": null
  },
  {
   "cell_type": "code",
   "id": "91db350b-7f19-44e7-b8d1-374d2a3801f8",
   "metadata": {
    "language": "sql",
    "name": "_67_dup_phonenum"
   },
   "outputs": [],
   "source": "-- Retrieve employees with duplicate phone numbers.\n-\n",
   "execution_count": null
  },
  {
   "cell_type": "code",
   "id": "f1534810-b83f-41dc-9c42-e28ae95ef82c",
   "metadata": {
    "language": "sql",
    "name": "_68_emp_longname"
   },
   "outputs": [],
   "source": "-- Find the employee(s) with the longest full name.\n\n",
   "execution_count": null
  },
  {
   "cell_type": "code",
   "id": "663ff047-7c7a-406e-886c-3c77775d1ab8",
   "metadata": {
    "language": "sql",
    "name": "_69_emp_count_3"
   },
   "outputs": [],
   "source": "-- Get departments where the employee count is less than 3.\n\n",
   "execution_count": null
  }
 ]
}