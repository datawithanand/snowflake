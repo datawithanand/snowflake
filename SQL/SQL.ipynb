{
 "metadata": {
  "kernelspec": {
   "display_name": "Streamlit Notebook",
   "name": "streamlit"
  },
  "lastEditStatus": {
   "notebookId": "lf4erypw2x5ofzhfmeft",
   "authorId": "3158684672522",
   "authorName": "ANANDSURESH",
   "authorEmail": "anandsuresh05@gmail.com",
   "sessionId": "6fa8b0fc-2ee7-402c-80b2-0b7c1a939c9b",
   "lastEditTime": 1756942918492
  }
 },
 "nbformat_minor": 5,
 "nbformat": 4,
 "cells": [
  {
   "cell_type": "code",
   "id": "4e3d9ad2-1fa9-4987-89a0-3b0cb532ca84",
   "metadata": {
    "language": "python",
    "name": "cell1"
   },
   "outputs": [],
   "source": "USE ROLE ACCOUNTADMIN;\ncreate database if not exists gitsampledb;\ncreate schema if not exists gitsampleschema;",
   "execution_count": null
  },
  {
   "cell_type": "markdown",
   "id": "b3ccff4a-0f29-4123-9977-49a38e6b9f14",
   "metadata": {
    "name": "_31_08_2025",
    "collapsed": false
   },
   "source": "#### 31/08/2025"
  },
  {
   "cell_type": "code",
   "id": "f2a5629a-9ff7-48a0-8dad-f594f08290cf",
   "metadata": {
    "language": "sql",
    "name": "_01_second_highest_salary"
   },
   "outputs": [],
   "source": "SELECT \n    max(salary)    \nFROM employees\nWHERE salary <\n(\n    SELECT \n        max(salary)\n    FROM employees\n)",
   "execution_count": null
  },
  {
   "cell_type": "code",
   "id": "58000fa1-eb69-4884-aa59-b225cd4b3930",
   "metadata": {
    "language": "sql",
    "name": "_02_salary_greater_avgsal"
   },
   "outputs": [],
   "source": "SELECT \n    *    \nFROM employees\nWHERE salary >\n(\n    SELECT \n        avg(salary)\n    FROM employees\n)",
   "execution_count": null
  },
  {
   "cell_type": "code",
   "id": "bff0190b-d539-439e-b98a-fb58221ac633",
   "metadata": {
    "language": "sql",
    "name": "_03_nth_highestsal"
   },
   "outputs": [],
   "source": "-- Using CTE and window functions\nWITH nth_sal \nAS \n(\n    select \n        *,\n        row_number() over(order by salary desc) as highsal\n    from employees\n)\n\nselect * from nth_sal where highsal = 3;\n\n-- Using subquery and window functions\n\nselect \n    *\nfrom \n(\n    select \n        *,\n        row_number() over(order by salary desc) as highsal\n    from employees\n) as highsal\nwhere highsal = 2;\n\n-- Without using CTE, subquery or ranking function\n\nselect * from employees order by salary desc limit 1 offset 1 ; -- here, we get the 2nd highest and offset value can be altered depend on nth value.",
   "execution_count": null
  },
  {
   "cell_type": "code",
   "id": "4c55828a-e59c-4531-be69-1fb2e5dbe1f0",
   "metadata": {
    "language": "sql",
    "name": "_04_duplicate_records"
   },
   "outputs": [],
   "source": "-- using count\n\nselect \n    emp_id, -- column names can be added/altered as per requirement\n    count(1) as dup_count\nfrom employees\ngroup by emp_id\nhaving count(1) > 1;\n\n-- using CTE and windowing functions\n\nwith dup_records\nas\n(\n    select\n        *,\n        row_number() over(partition by firstname, lastname order by emp_id) as dup_order\n    from employees\n    \n)\n\nselect * from dup_records where dup_order > 1;",
   "execution_count": null
  },
  {
   "cell_type": "code",
   "id": "9dbbd25b-fab7-42b9-b1db-605ec9cdf68e",
   "metadata": {
    "language": "sql",
    "name": "_05_delete_dup_records"
   },
   "outputs": [],
   "source": "DELETE FROM employees\nWHERE emp_id NOT IN \n(\n    SELECT MIN(emp_id)\n    FROM employees\n    GROUP BY firstname, lastname\n);\n",
   "execution_count": null
  },
  {
   "cell_type": "code",
   "id": "966eec46-9bf4-4e5f-bd5f-fda4a392b2a3",
   "metadata": {
    "language": "sql",
    "name": "_06_same_salary"
   },
   "outputs": [],
   "source": "-- using CTE\n\nwith same_sal\nas\n(\n    select salary, count(1) as sal_count from employees\n    group by salary \n    having count(1) > 1\n)\nselect * from employees\nwhere salary in (select salary from same_sal);\n\n-- using window functions\n\nSELECT *\nFROM (\n    SELECT e.*, COUNT(*) OVER(PARTITION BY salary) AS sal_count\n    FROM employees e\n) t\nWHERE sal_count > 1;\n\n-- using self join\n\nSELECT e1.*\nFROM employees e1\nJOIN employees e2 \n  ON e1.salary = e2.salary \n AND e1.emp_id <> e2.emp_id;",
   "execution_count": null
  },
  {
   "cell_type": "code",
   "id": "ef05b9b3-91c7-4975-9663-b0c9f2ed915c",
   "metadata": {
    "language": "sql",
    "name": "_07_joined_last30days"
   },
   "outputs": [],
   "source": "--straightforward\n\nSELECT *\nFROM employees\nWHERE DATEDIFF(day, hiredate, CURRENT_DATE) < 30;\n\n\n--using subquery (optional)\n\nselect * from\n(\n    select *, datediff(day, hiredate, current_date()) as empie from employees\n) as datedifftable\nwhere empie < 30\norder by empie asc;\n\n\n--using window functions\n\nwith hirediff\nas \n(\n    select e.*, datediff(day, hiredate, current_date()) as empie from employees e\n)\n\nselect e.* from hirediff as e where empie < 30;",
   "execution_count": null
  },
  {
   "cell_type": "code",
   "id": "0aa183e8-b956-4ab5-b719-476d290170d0",
   "metadata": {
    "language": "sql",
    "name": "_08_top3_without_limit",
    "codeCollapsed": false
   },
   "outputs": [],
   "source": "-- using window functions\nwith\nsal_ranked\nas\n(\n    select\n        *,\n        dense_rank() over(order by salary desc) as sal_rank\n    from employees\n)\nselect \n    distinct salary \nfrom \n    sal_ranked \nwhere \n    sal_rank <=3\norder by \n    salary desc",
   "execution_count": null
  },
  {
   "cell_type": "code",
   "id": "4279c3fb-9660-41ea-8a4d-b8c2d4df353d",
   "metadata": {
    "language": "sql",
    "name": "_09_common_two_tables"
   },
   "outputs": [],
   "source": "-- using intersect\n\nselect * from employees\nintersect\nselect * from employees;\n\n-- using EXISTS\n\nSELECT *\nFROM employees e\nWHERE EXISTS (\n    SELECT 1\n    FROM employees e1\n    WHERE e1.emp_id = e.emp_id);",
   "execution_count": null
  },
  {
   "cell_type": "markdown",
   "id": "b97c7b02-f075-4344-97b5-6d23c7a42f0b",
   "metadata": {
    "name": "_02_09_2025",
    "collapsed": false
   },
   "source": "#### 02/09/2025"
  },
  {
   "cell_type": "code",
   "id": "1f6144ba-2a8f-44e2-ae65-0bccfe675df4",
   "metadata": {
    "language": "sql",
    "name": "_10_manager_no_employees"
   },
   "outputs": [],
   "source": "-- How would you find all the managers who do not manage any employees?\n\nSELECT m.emp_id, m.firstname AS manager_name\nFROM employees m\nLEFT JOIN employees e\n  ON e.manager_id = m.emp_id\nWHERE e.emp_id IS NULL;\n",
   "execution_count": null
  },
  {
   "cell_type": "code",
   "id": "8d3afb15-9dc6-4997-992b-8b2bdb483829",
   "metadata": {
    "language": "sql",
    "name": "_11_dept_morethan_10emp"
   },
   "outputs": [],
   "source": "-- Write a SQL query to display the departments with more than 10 employees.\n\nselect \n    d.dept_id,\n    d.dept_name,\n    count(e.emp_id) as dept_emp_count\nfrom \n    dept d\njoin \n    employees e \non \n    e.dept_id = d.dept_id \ngroup by\n    d.dept_id, d.dept_name\nhaving count(e.emp_id) > 10",
   "execution_count": null
  },
  {
   "cell_type": "code",
   "id": "7545f70a-1dd6-4791-89f2-3ef790f92230",
   "metadata": {
    "language": "sql",
    "name": "_12_empname_startswith_A"
   },
   "outputs": [],
   "source": "-- How do you find the names of employees that start with ‘A’?\n\nselect\n    firstname,\n    middlename,\n    lastname\nfrom \n    employees\nwhere firstname ILIKE 'a%'",
   "execution_count": null
  },
  {
   "cell_type": "code",
   "id": "28ac5ca3-4443-4121-801a-a5355b71454f",
   "metadata": {
    "language": "sql",
    "name": "_13_empname_managername"
   },
   "outputs": [],
   "source": "-- Write a query to retrieve the employee details along with their manager details.\n\nselect\n    e.emp_id as employee_id,\n    m.manager_id as manager_id,\n    e.firstname as employeename,\n    m.firstname as managername\nfrom\n    employees e\nleft join\n    employees m\non e.manager_id = m.emp_id",
   "execution_count": null
  },
  {
   "cell_type": "code",
   "id": "f5783ecd-db6e-4a88-ae0d-1f78f9b77d54",
   "metadata": {
    "language": "sql",
    "name": "_14_dept_high_sal"
   },
   "outputs": [],
   "source": "-- Write a SQL query to get the employee with the highest salary per department.\n\nselect\n    firstname,\n    lastname,\n    salary,\n    dept_id\nfrom\n(\n    select \n        *,\n        row_number() over(partition by dept_id order by salary desc) as dept_sal\n    from employees  \n) as emp_high_sal\nwhere dept_sal = 1\norder by dept_id asc",
   "execution_count": null
  },
  {
   "cell_type": "code",
   "id": "bdbc8d94-5fff-4be6-87e6-1e53bd2b63cc",
   "metadata": {
    "language": "sql",
    "name": "_15_total_sal_dept"
   },
   "outputs": [],
   "source": "-- Write a query to find the total salary paid to each department.\n\nselect\n    dept_id,\n    sum(salary) as total_dept_sal\nfrom\n    employees\ngroup by dept_id\norder by total_dept_sal desc",
   "execution_count": null
  },
  {
   "cell_type": "markdown",
   "id": "c768b9c1-1416-4b36-8bb1-4938ac05b913",
   "metadata": {
    "name": "_03_09_2025",
    "collapsed": false
   },
   "source": "#### 03/09/2025"
  },
  {
   "cell_type": "code",
   "id": "1392f30d-6061-4373-af1e-a1817523f9f1",
   "metadata": {
    "language": "sql",
    "name": "_16_work_morethanone_Dept"
   },
   "outputs": [],
   "source": "-- How would you find employees who work in more than one department?\nselect\n    emp_id,\n    count(distinct dept_id) as emp_work_dept_count\nfrom\n    employees\ngroup by\n    emp_id\nhaving\n    emp_work_dept_count > 1\norder by\n    emp_work_dept_count desc",
   "execution_count": null
  },
  {
   "cell_type": "code",
   "id": "00df3a0d-700e-494d-8d03-3dac2e7524f8",
   "metadata": {
    "language": "sql",
    "name": "_17_empinfo_with_salary"
   },
   "outputs": [],
   "source": "-- Write a query to fetch the employee details along with their salary in ascending order.\n\nselect\n    emp_id,\n    firstname,\n    lastname,\n    salary\nfrom \n    employees\norder by \n    salary asc",
   "execution_count": null
  },
  {
   "cell_type": "code",
   "id": "67057047-a586-4f35-a40c-43310044b68e",
   "metadata": {
    "language": "sql",
    "name": "_18_emp_notIN_ITdept"
   },
   "outputs": [],
   "source": "-- Write a SQL query to find all employees whose department is not in the IT department.\n\nselect\n    e.emp_id,\n    e.firstname,\n    e.lastname,\n    d.dept_name\nfrom    \n    employees e\njoin\n    dept d\non e.dept_id = d.dept_id\nwhere d.dept_name NOT ILIKE 'IT%' ",
   "execution_count": null
  },
  {
   "cell_type": "code",
   "id": "7444f7b0-d1a6-4517-84f6-4ee1faf0c99f",
   "metadata": {
    "language": "sql",
    "name": "_19_last_record"
   },
   "outputs": [],
   "source": "-- How do you retrieve the last record from a table?\n\n--“In SQL, rows are unordered, so there’s no concept of a ‘last record’ without an ORDER BY. If we have a meaningful column like created_at or an auto-increment id, we can use ORDER BY … DESC LIMIT 1 to fetch the latest.”\n\nselect\n    *\nfrom employees\norder by hiredate desc limit 1",
   "execution_count": null
  },
  {
   "cell_type": "code",
   "id": "30980ed5-92e3-49de-b930-1ca888883ad3",
   "metadata": {
    "language": "sql",
    "name": "_20_empcount_each_dept"
   },
   "outputs": [],
   "source": "-- Write a query to count the number of employees in each department.\n\nselect\n    d.dept_id,\n    d.dept_name,\n    count(e.emp_id) as num_of_employees\nfrom \n    dept d\njoin\n    employees e\non \n    d.dept_id = e.dept_id\ngroup by\n    d.dept_id, d.dept_name\norder by \n    num_of_employees desc",
   "execution_count": null
  }
 ]
}