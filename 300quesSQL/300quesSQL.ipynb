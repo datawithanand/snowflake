{
 "metadata": {
  "kernelspec": {
   "display_name": "Streamlit Notebook",
   "name": "streamlit"
  },
  "lastEditStatus": {
   "notebookId": "zsomhf6ayg2cgkezynnr",
   "authorId": "3158684672522",
   "authorName": "ANANDSURESH",
   "authorEmail": "anandsuresh05@gmail.com",
   "sessionId": "eb6b2935-4d2f-4528-b70f-70d4e8ef62a6",
   "lastEditTime": 1757817184055
  }
 },
 "nbformat_minor": 5,
 "nbformat": 4,
 "cells": [
  {
   "cell_type": "code",
   "id": "eb3701cd-a27d-44d9-9313-7537bcb8e9fd",
   "metadata": {
    "language": "sql",
    "name": "cell1"
   },
   "outputs": [],
   "source": "-- testing",
   "execution_count": null
  }
 ]
}