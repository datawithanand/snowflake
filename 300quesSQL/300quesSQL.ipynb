{
 "metadata": {
  "kernelspec": {
   "display_name": "Streamlit Notebook",
   "name": "streamlit"
  },
  "lastEditStatus": {
   "notebookId": "zsomhf6ayg2cgkezynnr",
   "authorId": "3158684672522",
   "authorName": "ANANDSURESH",
   "authorEmail": "anandsuresh05@gmail.com",
   "sessionId": "eb6b2935-4d2f-4528-b70f-70d4e8ef62a6",
   "lastEditTime": 1757818580811
  }
 },
 "nbformat_minor": 5,
 "nbformat": 4,
 "cells": [
  {
   "cell_type": "markdown",
   "id": "beba29df-9a11-4d33-8685-bb7ca889faa8",
   "metadata": {
    "name": "_14_09_2025",
    "collapsed": false
   },
   "source": ""
  },
  {
   "cell_type": "code",
   "id": "eb3701cd-a27d-44d9-9313-7537bcb8e9fd",
   "metadata": {
    "language": "sql",
    "name": "_001_secondhigh_sal"
   },
   "outputs": [],
   "source": "-- Find the second highest salary from the Employee table.",
   "execution_count": null
  }
 ]
}