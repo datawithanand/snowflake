{
 "metadata": {
  "kernelspec": {
   "display_name": "Streamlit Notebook",
   "name": "streamlit"
  },
  "lastEditStatus": {
   "notebookId": "ckuoiv3c72zo6k7ns5a5",
   "authorId": "3158684672522",
   "authorName": "ANANDSURESH",
   "authorEmail": "anandsuresh05@gmail.com",
   "sessionId": "175a8ace-7a25-4b1c-a85a-f32caab758ee",
   "lastEditTime": 1757816900144
  }
 },
 "nbformat_minor": 5,
 "nbformat": 4,
 "cells": []
}