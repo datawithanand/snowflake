{
 "metadata": {
  "kernelspec": {
   "display_name": "Streamlit Notebook",
   "name": "streamlit"
  },
  "lastEditStatus": {
   "notebookId": "zsomhf6ayg2cgkezynnr",
   "authorId": "3158684672522",
   "authorName": "ANANDSURESH",
   "authorEmail": "anandsuresh05@gmail.com",
   "sessionId": "c36224b6-ef30-4c60-96f2-84dddc6526da",
   "lastEditTime": 1757895272630
  }
 },
 "nbformat_minor": 5,
 "nbformat": 4,
 "cells": [
  {
   "cell_type": "markdown",
   "id": "beba29df-9a11-4d33-8685-bb7ca889faa8",
   "metadata": {
    "name": "_15_09_2025",
    "collapsed": false
   },
   "source": ""
  },
  {
   "cell_type": "code",
   "id": "eb3701cd-a27d-44d9-9313-7537bcb8e9fd",
   "metadata": {
    "language": "sql",
    "name": "_001_secondhigh_sal"
   },
   "outputs": [],
   "source": "-- Find the second highest salary from the Employee table.\n\n-- method1:\n\nselect \n    max(salary)\nfrom\n    employees\nwhere salary < (\n    select max(salary)\n    from employees\n)\n\n-- method2:\n-- Used dense_rank because \nselect\n    *\nfrom\n    (\n    select \n        firstname,\n        lastname,\n        salary,\n        dense_rank() over(order by salary desc) as sal_order\n    ) t\nwhere sal_order = 2\n\n-- method3:\n\n-- I can place the above inner query from method2 inside a CTE and query it",
   "execution_count": null
  },
  {
   "cell_type": "code",
   "id": "5fab4eaf-5724-4fd6-b26a-9f598bfb9f09",
   "metadata": {
    "language": "sql",
    "name": "_002_find_duplicates"
   },
   "outputs": [],
   "source": "-- Find duplicate records in a table.\n",
   "execution_count": null
  }
 ]
}