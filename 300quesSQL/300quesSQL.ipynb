{
 "metadata": {
  "kernelspec": {
   "display_name": "Streamlit Notebook",
   "name": "streamlit"
  },
  "lastEditStatus": {
   "notebookId": "zsomhf6ayg2cgkezynnr",
   "authorId": "3158684672522",
   "authorName": "ANANDSURESH",
   "authorEmail": "anandsuresh05@gmail.com",
   "sessionId": "c36224b6-ef30-4c60-96f2-84dddc6526da",
   "lastEditTime": 1757897317529
  }
 },
 "nbformat_minor": 5,
 "nbformat": 4,
 "cells": [
  {
   "cell_type": "markdown",
   "id": "beba29df-9a11-4d33-8685-bb7ca889faa8",
   "metadata": {
    "name": "_15_09_2025",
    "collapsed": false
   },
   "source": ""
  },
  {
   "cell_type": "code",
   "id": "eb3701cd-a27d-44d9-9313-7537bcb8e9fd",
   "metadata": {
    "language": "sql",
    "name": "_001_secondhigh_sal"
   },
   "outputs": [],
   "source": "-- Find the second highest salary from the Employee table.\n\n-- method1:\n\nselect \n    max(salary)\nfrom\n    employees\nwhere salary < (\n    select max(salary)\n    from employees\n)\n\n-- method2:\n-- Used dense_rank because \nselect\n    *\nfrom\n    (\n    select \n        firstname,\n        lastname,\n        salary,\n        dense_rank() over(order by salary desc) as sal_order\n    ) t\nwhere sal_order = 2\n\n-- method3:\n\n-- I can place the above inner query from method2 inside a CTE and query it",
   "execution_count": null
  },
  {
   "cell_type": "code",
   "id": "5fab4eaf-5724-4fd6-b26a-9f598bfb9f09",
   "metadata": {
    "language": "sql",
    "name": "_002_find_duplicates",
    "codeCollapsed": false
   },
   "outputs": [],
   "source": "-- Find duplicate records in a table.\n\n-- method:1\n\nselect\n    firstname,\n    lastname,\n    email,\n    phone,\n    count(1) as dup_count\nfrom employees\ngroup by firstname, lastname, email, phone\nhaving count(1) > 1\n\n-- method:2 [Wrong]\n\nselect \n    *\nfrom (\n    select\n        firstname,\n        lastname,\n        email,\n        phone,\n        row_number() over(partition by firstname, lastname order by firstname, lastname ) as dup_order\n    from\n    employees\n) t\nwhere dup_order > 1\n",
   "execution_count": null
  },
  {
   "cell_type": "code",
   "id": "e81cf09d-d605-41fc-9c14-1ab193485fa0",
   "metadata": {
    "language": "sql",
    "name": "_003_emp_earn_more_manager"
   },
   "outputs": [],
   "source": "-- Retrieve employees who earn more than their manager.\n\nselect\n    e.name as employee_name,\n    m.name as manager_name,\n    e.salary as employee_salary,\n    m.salary as manager_salary\nfrom\n    employees e join employees m\non\n    e.manager_id = m.emp_id\nwhere\n    e.salary > m.salary",
   "execution_count": null
  },
  {
   "cell_type": "code",
   "id": "1be278e2-c2d9-4acf-a342-f88ccc2c2a1f",
   "metadata": {
    "language": "sql",
    "name": "_004_emp_count_more_5"
   },
   "outputs": [],
   "source": "-- Count employees in each department having more than 5 employees.\n\nselect\n    dept_id,\n    count(1) as emp_count\nfrom\n    employees\ngroup by \n    dept_id\nhaving count(1) > 5",
   "execution_count": null
  },
  {
   "cell_type": "code",
   "id": "0e2211da-6f7e-4d73-88d9-d95b14689aa2",
   "metadata": {
    "language": "sql",
    "name": "_005_joined_last6months"
   },
   "outputs": [],
   "source": "-- Find employees who joined in the last 6 months.\n\nselect\n    firstname,\n    email,\n    salary,\n    hiredate\nfrom\n    employees\nwhere\n    hiredate >= (current_date() - interval '6 months')",
   "execution_count": null
  },
  {
   "cell_type": "code",
   "id": "d8ae28f0-2506-49c8-a118-4049c46a3542",
   "metadata": {
    "language": "sql",
    "name": "_006_dept_no_emp"
   },
   "outputs": [],
   "source": "-- Get departments with no employees.\n\nselect \n    d.dept_id,\n    e.emp_id,\n    e.firstname,\n    e.lastname\nfrom\n    dept d\nleft join\n    employees e\non \n    d.dept_id = e.dept_id\nwhere\n    e.emp_id is null",
   "execution_count": null
  },
  {
   "cell_type": "code",
   "id": "aa41e8fe-cf8c-4df1-90bc-588ff1e4fc9c",
   "metadata": {
    "language": "sql",
    "name": "_007_median_sal"
   },
   "outputs": [],
   "source": "-- Write a query to find the median salary.\n\nselect\n    percentile_cont(0.5) within group (order by salary) over() as med\nfrom \n    employees",
   "execution_count": null
  }
 ]
}